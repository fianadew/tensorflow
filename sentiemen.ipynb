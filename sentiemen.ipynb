{
  "nbformat": 4,
  "nbformat_minor": 0,
  "metadata": {
    "colab": {
      "name": "Submission 1",
      "provenance": [],
      "collapsed_sections": [],
      "include_colab_link": true
    },
    "kernelspec": {
      "display_name": "Python 3",
      "name": "python3"
    }
  },
  "cells": [
    {
      "cell_type": "markdown",
      "metadata": {
        "id": "view-in-github",
        "colab_type": "text"
      },
      "source": [
        "<a href=\"https://colab.research.google.com/github/fianadew/tensorflow/blob/main/sentiemen.ipynb\" target=\"_parent\"><img src=\"https://colab.research.google.com/assets/colab-badge.svg\" alt=\"Open In Colab\"/></a>"
      ]
    },
    {
      "cell_type": "markdown",
      "metadata": {
        "id": "iS8OAc7XWUqG"
      },
      "source": [
        "SUBMISSION 1 PENGEMBANGAN MACHINE LEARNING\n"
      ]
    },
    {
      "cell_type": "markdown",
      "metadata": {
        "id": "_92f9mpfWTLt"
      },
      "source": [
        "Nama : Fiana Dewi"
      ]
    },
    {
      "cell_type": "code",
      "metadata": {
        "id": "L0PPv0eQWFVP"
      },
      "source": [
        "import os\n",
        "import re\n",
        "import zipfile\n",
        "import numpy as np\n",
        "import pandas as pd\n",
        "import tensorflow as tf\n",
        "import missingno as msno\n",
        "import matplotlib.pyplot as plt\n",
        "from sklearn import preprocessing\n",
        "from sklearn.model_selection import train_test_split\n",
        "from tensorflow.keras.preprocessing.text import Tokenizer\n",
        "from tensorflow.keras.preprocessing.sequence import pad_sequences"
      ],
      "execution_count": null,
      "outputs": []
    },
    {
      "cell_type": "code",
      "metadata": {
        "colab": {
          "base_uri": "https://localhost:8080/"
        },
        "id": "BFEgV3RA_yRc",
        "outputId": "275ec131-7adc-4891-ce73-d33ae71fc61c"
      },
      "source": [
        "drive.mount('/content/drive/')"
      ],
      "execution_count": null,
      "outputs": [
        {
          "output_type": "stream",
          "text": [
            "Drive already mounted at /content/drive/; to attempt to forcibly remount, call drive.mount(\"/content/drive/\", force_remount=True).\n"
          ],
          "name": "stdout"
        }
      ]
    },
    {
      "cell_type": "code",
      "metadata": {
        "id": "9pWSrLXUTXJ8"
      },
      "source": [
        "#Didalam zip terdapat 2 jenis file yaitu train dan test. File train untuk melatih model, sementara file test untuk membuat prediksi dari model yang sudah dilatih\n",
        "#local_zip = '/tmp/sentimen.zip'\n",
        "#zip_ref = zipfile.ZipFile(local_zip, 'r')\n",
        "#zip_ref.extractall('/tmp')\n",
        "#zip_ref.close()"
      ],
      "execution_count": null,
      "outputs": []
    },
    {
      "cell_type": "code",
      "metadata": {
        "id": "dwli3nQ3Vtyb"
      },
      "source": [
        "#Membaca file csv train\n",
        "train_df = pd.read_csv(\"/content/drive/My Drive/sentimen/train.csv\")\n",
        "test_df = pd.read_csv(\"/content/drive/My Drive/sentimen/test.csv\")\n",
        "#Menghapus karakter selain kalimat\n",
        "train_df['tweet'] = train_df['tweet'].apply((lambda x: re.sub('[^a-zA-z0-9\\s]','',x)))"
      ],
      "execution_count": null,
      "outputs": []
    },
    {
      "cell_type": "code",
      "metadata": {
        "colab": {
          "base_uri": "https://localhost:8080/",
          "height": 419
        },
        "id": "9yXcbdoBTC_q",
        "outputId": "2d8397d3-0fa7-4880-8d74-bb1216a3818b"
      },
      "source": [
        "#Membaca data train\n",
        "train_df"
      ],
      "execution_count": null,
      "outputs": [
        {
          "output_type": "execute_result",
          "data": {
            "text/html": [
              "<div>\n",
              "<style scoped>\n",
              "    .dataframe tbody tr th:only-of-type {\n",
              "        vertical-align: middle;\n",
              "    }\n",
              "\n",
              "    .dataframe tbody tr th {\n",
              "        vertical-align: top;\n",
              "    }\n",
              "\n",
              "    .dataframe thead th {\n",
              "        text-align: right;\n",
              "    }\n",
              "</style>\n",
              "<table border=\"1\" class=\"dataframe\">\n",
              "  <thead>\n",
              "    <tr style=\"text-align: right;\">\n",
              "      <th></th>\n",
              "      <th>id</th>\n",
              "      <th>label</th>\n",
              "      <th>tweet</th>\n",
              "    </tr>\n",
              "  </thead>\n",
              "  <tbody>\n",
              "    <tr>\n",
              "      <th>0</th>\n",
              "      <td>1</td>\n",
              "      <td>0</td>\n",
              "      <td>user when a father is dysfunctional and is so...</td>\n",
              "    </tr>\n",
              "    <tr>\n",
              "      <th>1</th>\n",
              "      <td>2</td>\n",
              "      <td>0</td>\n",
              "      <td>user user thanks for lyft credit i cant use ca...</td>\n",
              "    </tr>\n",
              "    <tr>\n",
              "      <th>2</th>\n",
              "      <td>3</td>\n",
              "      <td>0</td>\n",
              "      <td>bihday your majesty</td>\n",
              "    </tr>\n",
              "    <tr>\n",
              "      <th>3</th>\n",
              "      <td>4</td>\n",
              "      <td>0</td>\n",
              "      <td>model   i love u take with u all the time in u...</td>\n",
              "    </tr>\n",
              "    <tr>\n",
              "      <th>4</th>\n",
              "      <td>5</td>\n",
              "      <td>0</td>\n",
              "      <td>factsguide society now    motivation</td>\n",
              "    </tr>\n",
              "    <tr>\n",
              "      <th>...</th>\n",
              "      <td>...</td>\n",
              "      <td>...</td>\n",
              "      <td>...</td>\n",
              "    </tr>\n",
              "    <tr>\n",
              "      <th>31957</th>\n",
              "      <td>31958</td>\n",
              "      <td>0</td>\n",
              "      <td>ate user isz that youuu</td>\n",
              "    </tr>\n",
              "    <tr>\n",
              "      <th>31958</th>\n",
              "      <td>31959</td>\n",
              "      <td>0</td>\n",
              "      <td>to see nina turner on the airwaves trying to...</td>\n",
              "    </tr>\n",
              "    <tr>\n",
              "      <th>31959</th>\n",
              "      <td>31960</td>\n",
              "      <td>0</td>\n",
              "      <td>listening to sad songs on a monday morning otw...</td>\n",
              "    </tr>\n",
              "    <tr>\n",
              "      <th>31960</th>\n",
              "      <td>31961</td>\n",
              "      <td>1</td>\n",
              "      <td>user sikh temple vandalised in in calgary wso ...</td>\n",
              "    </tr>\n",
              "    <tr>\n",
              "      <th>31961</th>\n",
              "      <td>31962</td>\n",
              "      <td>0</td>\n",
              "      <td>thank you user for you follow</td>\n",
              "    </tr>\n",
              "  </tbody>\n",
              "</table>\n",
              "<p>31962 rows × 3 columns</p>\n",
              "</div>"
            ],
            "text/plain": [
              "          id  label                                              tweet\n",
              "0          1      0   user when a father is dysfunctional and is so...\n",
              "1          2      0  user user thanks for lyft credit i cant use ca...\n",
              "2          3      0                                bihday your majesty\n",
              "3          4      0  model   i love u take with u all the time in u...\n",
              "4          5      0               factsguide society now    motivation\n",
              "...      ...    ...                                                ...\n",
              "31957  31958      0                           ate user isz that youuu \n",
              "31958  31959      0    to see nina turner on the airwaves trying to...\n",
              "31959  31960      0  listening to sad songs on a monday morning otw...\n",
              "31960  31961      1  user sikh temple vandalised in in calgary wso ...\n",
              "31961  31962      0                    thank you user for you follow  \n",
              "\n",
              "[31962 rows x 3 columns]"
            ]
          },
          "metadata": {
            "tags": []
          },
          "execution_count": 376
        }
      ]
    },
    {
      "cell_type": "code",
      "metadata": {
        "colab": {
          "base_uri": "https://localhost:8080/",
          "height": 467
        },
        "id": "E3PBzU-1GeQO",
        "outputId": "613ce5d4-b06d-4e46-94b2-5ed849393738"
      },
      "source": [
        "print('Grafik missing value')\n",
        "msno.bar(train_df, color='aqua')"
      ],
      "execution_count": null,
      "outputs": [
        {
          "output_type": "stream",
          "text": [
            "Grafik missing value\n"
          ],
          "name": "stdout"
        },
        {
          "output_type": "execute_result",
          "data": {
            "text/plain": [
              "<matplotlib.axes._subplots.AxesSubplot at 0x7fa4cce75bd0>"
            ]
          },
          "metadata": {
            "tags": []
          },
          "execution_count": 377
        },
        {
          "output_type": "display_data",
          "data": {
            "image/png": "[encoded data removed]",
            "text/plain": [
              "<Figure size 1800x720 with 3 Axes>"
            ]
          },
          "metadata": {
            "tags": [],
            "needs_background": "light"
          }
        }
      ]
    },
    {
      "cell_type": "code",
      "metadata": {
        "id": "OXPHwgcHXB6D"
      },
      "source": [
        "#Mengubah ke bentuk list\n",
        "sentence = train_df['tweet'].values\n",
        "label = train_df['label'].values\n",
        "#Splitting data \n",
        "x_train, x_test, y_train, y_test = train_test_split(sentence, label, test_size=0.2)"
      ],
      "execution_count": null,
      "outputs": []
    },
    {
      "cell_type": "code",
      "metadata": {
        "id": "hUECPyMOeJFR",
        "colab": {
          "base_uri": "https://localhost:8080/"
        },
        "outputId": "3b39e51c-cbde-4d9b-de56-fced9684e1cf"
      },
      "source": [
        "#Membuat objek tokenizer\n",
        "tokenizer = Tokenizer(num_words=10000, oov_token='<OOV>', filters='!@#$%^&*()_+}{\":\\><.,?][-=', lower=True)\n",
        "#Mengubah kata menjadi number\n",
        "tokenizer.fit_on_texts(x_train)\n",
        "#Melihat kata yang telah diubah mejadi number\n",
        "print(len(tokenizer.word_index))"
      ],
      "execution_count": null,
      "outputs": [
        {
          "output_type": "stream",
          "text": [
            "36029\n"
          ],
          "name": "stdout"
        }
      ]
    },
    {
      "cell_type": "code",
      "metadata": {
        "id": "NamCIv_ifXAM",
        "colab": {
          "base_uri": "https://localhost:8080/"
        },
        "outputId": "e7c24b8d-ab8e-41a2-880b-60a92dc79d38"
      },
      "source": [
        "#Mengubah nilai kedalam bentuk vektor\n",
        "sequence_train = tokenizer.texts_to_sequences(x_train)\n",
        "sequence_test = tokenizer.texts_to_sequences(x_test)\n",
        "#Menyesuaikan panjang vektor dengan menggunakan padding\n",
        "padding_train = pad_sequences(sequence_train)\n",
        "padding_test = pad_sequences(sequence_test)\n",
        "print('shape of padding_train', padding_train.shape)\n",
        "print('shape of padding_test', padding_test.shape)"
      ],
      "execution_count": null,
      "outputs": [
        {
          "output_type": "stream",
          "text": [
            "shape of padding_train (25569, 34)\n",
            "shape of padding_test (6393, 30)\n"
          ],
          "name": "stdout"
        }
      ]
    },
    {
      "cell_type": "code",
      "metadata": {
        "id": "CETCc4C8rSQl"
      },
      "source": [
        "#membuat arsitektur model Sequential dengan parameter embedding dan LSTM\n",
        "model = tf.keras.Sequential([\n",
        "                             tf.keras.layers.Embedding(20000, 50),\n",
        "                             tf.keras.layers.LSTM(32),\n",
        "                             tf.keras.layers.Dropout(0.3),\n",
        "                             tf.keras.layers.Dense(16, activation='relu'),\n",
        "                             tf.keras.layers.Dropout(0.2),\n",
        "                             tf.keras.layers.Dense(1, activation='sigmoid')])"
      ],
      "execution_count": null,
      "outputs": []
    },
    {
      "cell_type": "code",
      "metadata": {
        "id": "arLx49KvrTz7"
      },
      "source": [
        "#compile model\n",
        "model.compile(optimizer='adam', loss='binary_crossentropy', metrics=['accuracy'])"
      ],
      "execution_count": null,
      "outputs": []
    },
    {
      "cell_type": "code",
      "metadata": {
        "id": "xmAH7wzZsYyi"
      },
      "source": [
        "#membuat callback dan memberhentikan epochs apabila akurasi telah mencapai >90%\n",
        "class myCallback(tf.keras.callbacks.Callback):\n",
        "    def on_epoch_end(self, epoch, logs={}):\n",
        "        if(logs.get('accuracy')>0.95):\n",
        "            print('\\nAkurasi telah mencapai >95%')\n",
        "            self.model.stop_training = True\n",
        "callbacks = myCallback()"
      ],
      "execution_count": null,
      "outputs": []
    },
    {
      "cell_type": "code",
      "metadata": {
        "id": "uPPFLW5Xp2b6",
        "colab": {
          "base_uri": "https://localhost:8080/"
        },
        "outputId": "ebe67003-4847-4000-961d-89ea2a84cc7a"
      },
      "source": [
        "#melatih model dan menyimpannya dalam variabel history\n",
        "history = model.fit(padding_train, y_train, epochs=20, batch_size=258, validation_data=(padding_test, y_test), verbose=1, callbacks=[callbacks])"
      ],
      "execution_count": null,
      "outputs": [
        {
          "output_type": "stream",
          "text": [
            "Epoch 1/20\n",
            "100/100 [==============================] - 8s 62ms/step - loss: 0.3430 - accuracy: 0.9208 - val_loss: 0.2101 - val_accuracy: 0.9349\n",
            "Epoch 2/20\n",
            "100/100 [==============================] - 6s 56ms/step - loss: 0.1610 - accuracy: 0.9442 - val_loss: 0.1163 - val_accuracy: 0.9575\n",
            "Epoch 3/20\n",
            "100/100 [==============================] - 6s 56ms/step - loss: 0.0851 - accuracy: 0.9707 - val_loss: 0.1165 - val_accuracy: 0.9593\n",
            "\n",
            "Akurasi telah mencapai >95%\n"
          ],
          "name": "stdout"
        }
      ]
    },
    {
      "cell_type": "code",
      "metadata": {
        "id": "3Bfa8NdzqY-n",
        "colab": {
          "base_uri": "https://localhost:8080/",
          "height": 265
        },
        "outputId": "9e67086f-a3c6-4030-e173-d989874321b3"
      },
      "source": [
        "#membuat plotting grafik akurasi\n",
        "akurasi = history.history['accuracy']\n",
        "val_akurasi = history.history['val_accuracy']\n",
        "plt.plot(akurasi)\n",
        "plt.plot(val_akurasi)\n",
        "plt.show()\n"
      ],
      "execution_count": null,
      "outputs": [
        {
          "output_type": "display_data",
          "data": {
            "image/png": "[encoded data removed]",
            "text/plain": [
              "<Figure size 432x288 with 1 Axes>"
            ]
          },
          "metadata": {
            "tags": [],
            "needs_background": "light"
          }
        }
      ]
    },
    {
      "cell_type": "code",
      "metadata": {
        "colab": {
          "base_uri": "https://localhost:8080/",
          "height": 265
        },
        "id": "dqTvtGYSCl_x",
        "outputId": "a1e575fd-2d5b-4550-e657-6a321950e51a"
      },
      "source": [
        "loss = history.history['loss']\n",
        "val_loss = history.history['val_loss']\n",
        "plt.plot(loss, label='Training Loss')\n",
        "plt.plot(val_loss, label='Validation Loss')\n",
        "plt.legend()\n",
        "plt.show()\n"
      ],
      "execution_count": null,
      "outputs": [
        {
          "output_type": "display_data",
          "data": {
            "image/png": "[encoded data removed]",
            "text/plain": [
              "<Figure size 432x288 with 1 Axes>"
            ]
          },
          "metadata": {
            "tags": [],
            "needs_background": "light"
          }
        }
      ]
    }
  ]
}